{
 "cells": [
  {
   "cell_type": "code",
   "execution_count": 41,
   "metadata": {},
   "outputs": [],
   "source": [
    "import numpy as np\n",
    "import matplotlib.pyplot as plt"
   ]
  },
  {
   "cell_type": "code",
   "execution_count": 36,
   "metadata": {},
   "outputs": [],
   "source": [
    "#load data\n",
    "def loaddata(filename):\n",
    "    file=open(filename)\n",
    "    x=[]\n",
    "    y=[]\n",
    "    for line in file.readlines():\n",
    "        line=line.strip().split()\n",
    "        x.append([1,float(line[0]),float(line[1])])\n",
    "        y.append([float(line[2])])\n",
    "    xmat=np.mat(x)\n",
    "    ymat=np.mat(y)\n",
    "    file.close()            \n",
    "    return xmat, ymat\n"
   ]
  },
  {
   "cell_type": "code",
   "execution_count": 56,
   "metadata": {},
   "outputs": [],
   "source": [
    "#w calculate\n",
    "def w_cal(xmat,ymat,alpha=0.001,maxiter=10001):\n",
    "    #W init\n",
    "    W=np.mat(np.random.randn(3,1))\n",
    "    #W update (dcw=dc/dw)\n",
    "    for i in range(maxiter):\n",
    "        H=1/(1+np.exp(-xmat*W)) #H:(10,1)\n",
    "        dcw=xmat.T*(H-ymat) #dcw:(3,1)\n",
    "        W-=alpha*dcw\n",
    "    return W\n",
    "    "
   ]
  },
  {
   "cell_type": "code",
   "execution_count": 57,
   "metadata": {},
   "outputs": [
    {
     "name": "stdout",
     "output_type": "stream",
     "text": [
      "[[1. 2. 1.]\n",
      " [1. 2. 2.]\n",
      " [1. 5. 4.]\n",
      " [1. 4. 5.]\n",
      " [1. 2. 3.]\n",
      " [1. 3. 2.]\n",
      " [1. 6. 5.]\n",
      " [1. 4. 1.]\n",
      " [1. 6. 3.]\n",
      " [1. 7. 4.]] (10, 3)\n",
      "[[0.]\n",
      " [0.]\n",
      " [1.]\n",
      " [1.]\n",
      " [0.]\n",
      " [0.]\n",
      " [1.]\n",
      " [0.]\n",
      " [1.]\n",
      " [1.]] (10, 1)\n"
     ]
    }
   ],
   "source": [
    "# implement\n",
    "xmat, ymat=loaddata(\"log_reg.txt\")\n",
    "print(xmat,xmat.shape)\n",
    "print(ymat,ymat.shape)\n"
   ]
  },
  {
   "cell_type": "code",
   "execution_count": 58,
   "metadata": {},
   "outputs": [
    {
     "name": "stdout",
     "output_type": "stream",
     "text": [
      "W: [[-6.26830442]\n",
      " [ 0.86024109]\n",
      " [ 1.04788455]]\n"
     ]
    },
    {
     "data": {
      "image/png": "[encoded data removed]",
      "text/plain": [
       "<Figure size 432x288 with 1 Axes>"
      ]
     },
     "metadata": {
      "needs_background": "light"
     },
     "output_type": "display_data"
    }
   ],
   "source": [
    "W=w_cal(xmat,ymat,0.01,1000)\n",
    "print(\"W:\",W)\n",
    "\n",
    "\n",
    "w0=W[0,0]\n",
    "w1=W[1,0]\n",
    "w2=W[2,0]\n",
    "plotx1=np.arange(1,7,0.01)\n",
    "plotx2=-w0/w2-(w1/w2)*plotx1\n",
    "\n",
    "plt.scatter(xmat[:,1][ymat==0].A,xmat[:,2][ymat==0].A,marker='^',s=150,label='label=0')\n",
    "plt.scatter(xmat[:,1][ymat==1].A,xmat[:,2][ymat==1].A,s=150,label='label=1')\n",
    "plt.plot(plotx1,plotx2,c='r',label='decision boundary')\n",
    "plt.grid()\n",
    "plt.legend()\n",
    "plt.show()"
   ]
  },
  {
   "cell_type": "code",
   "execution_count": null,
   "metadata": {},
   "outputs": [],
   "source": []
  }
 ],
 "metadata": {
  "kernelspec": {
   "display_name": "Python 3",
   "language": "python",
   "name": "python3"
  },
  "language_info": {
   "codemirror_mode": {
    "name": "ipython",
    "version": 3
   },
   "file_extension": ".py",
   "mimetype": "text/x-python",
   "name": "python",
   "nbconvert_exporter": "python",
   "pygments_lexer": "ipython3",
   "version": "3.7.4"
  }
 },
 "nbformat": 4,
 "nbformat_minor": 2
}
